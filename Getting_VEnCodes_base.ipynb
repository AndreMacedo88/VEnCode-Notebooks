{
  "nbformat": 4,
  "nbformat_minor": 0,
  "metadata": {
    "colab": {
      "name": "Getting_VEnCodes_base.ipynb",
      "provenance": [],
      "collapsed_sections": [
        "RM89Jbbxem-A",
        "LC1L0TyNdgtQ",
        "TbZMX2VueGpB",
        "g2y6F-2XrExe"
      ],
      "authorship_tag": "ABX9TyPoAniTlInGa5o44lyl1H3P",
      "include_colab_link": true
    },
    "kernelspec": {
      "name": "python3",
      "display_name": "Python 3"
    }
  },
  "cells": [
    {
      "cell_type": "markdown",
      "metadata": {
        "id": "view-in-github",
        "colab_type": "text"
      },
      "source": [
        "<a href=\"https://colab.research.google.com/github/AndreMacedo88/VEnCode-Notebooks/blob/main/Getting_VEnCodes_base.ipynb\" target=\"_parent\"><img src=\"https://colab.research.google.com/assets/colab-badge.svg\" alt=\"Open In Colab\"/></a>"
      ]
    },
    {
      "cell_type": "markdown",
      "metadata": {
        "id": "RM89Jbbxem-A"
      },
      "source": [
        "## **How to use this notebook**"
      ]
    },
    {
      "cell_type": "markdown",
      "metadata": {
        "id": "Aoqe9XX0euwr"
      },
      "source": [
        "### **What is this notebook for?**\n",
        "This notebook allows users to **find, rank, and retrieve VEnCodes** without doing any modification and software set up to their machines.\n",
        "For in-depth information about the VEnCode tool, please refer to [Macedo and Gontijo, The intersectional genetics landscape for humans, GigaScience, 2020](https://doi.org/10.1093/gigascience/giaa083).\n",
        "\n",
        "In the context of the VEnCode technology, and using the CAGE-seq dataset from the FANTOM5 consortium, this notebook allows retrieving VEnCodes for the **primary cells in the FANTOM5 CAGE-seq dataset**. Other notebooks by our team allow for different analyses of different cell types, lines, or states.\n",
        "\n",
        "Also, this notebook runs the base algorithm that works for any numeric data matrix of columns and rows, where it will find combinations of n rows that exhibit values above a set threshold in one desired column, and below another threshold in all other columns. So, this means that the notebook can be used even for applications outside transcriptomics.\n",
        "\n",
        "### **Rationale**\n",
        "While the full VEnCode tool (available for Python 3) allows for many more functions, analyses, and flexibility, there are times when a more user friendly method is important, for example:\n",
        "\n",
        "*   Users working \"on the go\" and currently without access to their machines;\n",
        "*   Users that don't want to set up a python environment;\n",
        "\n",
        "Moreover, google colab sets up identical machines for their users, which makes this code reproducible between all who have access to this notebook.\n",
        "### **Requirements**\n",
        "There is only one requirement to use this notebook successfully:\n",
        "**You must have .csv data in the form of cell type x regulatory element (columns x rows) stored in your google drive.**\n",
        "### **Considerations on how to use the notebook**\n",
        "1. Before running, **there are two things you need to address**:\n",
        "\n",
        "*   Load your Google Drive and starting data\n",
        "*   Define the starting Parameters to get VEnCodes\n",
        "\n",
        "We will explain how to address these issues in the next two sections.\n",
        "\n",
        "2. Ideally, for full reproducible results, **when you are ready to run the code you should click on \"Runtime\" and then \"Restart and run all\"**. However, the cells of this notebook where separated for you to run independently if you want to do some quick tweaks to the parameters.\n",
        "\n",
        "3. Note that **your attention will be needed once after starting the run**: to access your Google Drive, Google Colab will ask you to follow a link, copy and paste it in the code block as instructed, and press enter.\n",
        "\n",
        "4. After running the code engine, **your results should be in your Google Drive** folder that contains your initial data set. Otherwise, check any error message that might have been triggered in the code blocks."
      ]
    },
    {
      "cell_type": "markdown",
      "metadata": {
        "id": "LC1L0TyNdgtQ"
      },
      "source": [
        "## **Preliminary steps**"
      ]
    },
    {
      "cell_type": "markdown",
      "metadata": {
        "id": "mG2FIUjaRsTd"
      },
      "source": [
        "First we need to import your data. This is the data that will be used to find and retrieve VEnCodes. Put the data file in your google drive for easy and quick access and run the next code cell."
      ]
    },
    {
      "cell_type": "code",
      "metadata": {
        "id": "hh3ePbDCCfJM"
      },
      "source": [
        "from google.colab import drive\n",
        "drive.mount('/content/drive')"
      ],
      "execution_count": null,
      "outputs": []
    },
    {
      "cell_type": "markdown",
      "metadata": {
        "id": "n4WKScmaOGdY"
      },
      "source": [
        "Next explain where the data that will be searched for VEnCodes is:"
      ]
    },
    {
      "cell_type": "code",
      "metadata": {
        "id": "95vwcq32Chq-"
      },
      "source": [
        "# Change the file name accordingly. Don't forget the extension's name.\n",
        "file_name = \"enhancers_154cells_non_binarized.csv\"\n",
        "# Also, you may want to take a look at your file and check which separator is used to split the values. Common separators are a comma \",\" or a semicolon \";\".\n",
        "separator_style = \";\"\n",
        "\n",
        "# Next variable can be left unchanged if your file is at the root of your Google Drive folder. \n",
        "# Otherwise, check the file structure on the left of this page in google colab and change the path to the folder where the file previously named is.\n",
        "path_to_folder = '/content/drive/My Drive/'\n"
      ],
      "execution_count": null,
      "outputs": []
    },
    {
      "cell_type": "markdown",
      "metadata": {
        "id": "CtfoRgyjdxAe"
      },
      "source": [
        "Install the VEnCode tool in the google colab machine:"
      ]
    },
    {
      "cell_type": "code",
      "metadata": {
        "id": "QxdxGqQMBYih"
      },
      "source": [
        "!pip install VEnCode"
      ],
      "execution_count": null,
      "outputs": []
    },
    {
      "cell_type": "markdown",
      "metadata": {
        "id": "TbZMX2VueGpB"
      },
      "source": [
        "## **Define the Parameters to get VEnCodes**"
      ]
    },
    {
      "cell_type": "markdown",
      "metadata": {
        "id": "Dcqn6nZxOwhK"
      },
      "source": [
        "Change the following parameters as desired (see [Macedo and Gontijo, The intersectional genetics landscape for humans, GigaScience, 2020](https://doi.org/10.1093/gigascience/giaa083) for more details):"
      ]
    },
    {
      "cell_type": "code",
      "metadata": {
        "id": "3tnsdG3fO8Kd"
      },
      "source": [
        "# Input the target cell type to get VEnCodes. This should be the name of a column in your data. \n",
        "cell_type = \"Hepatocyte\"  # If using FANTOM5 data, run the code in the next cell group to see available cell types in FANTOM5.\n",
        "\n",
        "# Choose the number of VEnCodes to find\n",
        "number_vencodes = 3\n",
        "\n",
        "# Define the number of regulatory elements that should comprise the VEnCodes\n",
        "number_of_re = 4\n",
        "\n",
        "# Choose the algorithm used to find VEnCodes. Can be \"heuristic\" or \"sampling\".\n",
        "algorithm = \"heuristic\"\n",
        "\n",
        "# Choose if you want to determine the E values for the VEnCodes that will be retrieved.\n",
        "e_values = True\n",
        "\n",
        "# Next we will define the threshold parameters.\n",
        "# First, the target_celltype_activity is the TPM threshold after which we consider the target cell type as active. \n",
        "# For FANTOM5 promoter data we recommend a value of 0.5. For enhancer data we recommend 0.1.\n",
        "target_celltype_activity = 0.1\n",
        "\n",
        "# Then, non_target_celltypes_inactivity is the TPM threshold after which we consider a non target cell type as active. It's recommended to use the value 0.\n",
        "non_target_celltypes_inactivity = 0\n"
      ],
      "execution_count": null,
      "outputs": []
    },
    {
      "cell_type": "markdown",
      "metadata": {
        "id": "K9Du9CF3XOY6"
      },
      "source": [
        "Run the next code block if you need to check the exact name of a cell type in the FANTOM5 data sets."
      ]
    },
    {
      "cell_type": "code",
      "metadata": {
        "id": "5JtQhsv1UrVo"
      },
      "source": [
        "from VEnCode import common_variables as cv\n",
        "from pprint import pprint as pp\n",
        "\n",
        "# show all names of primary cell types:\n",
        "pp(cv.primary_cell_list, compact=True)  # Turn compact to False to see an easier to read, albeit longer, list of cell types."
      ],
      "execution_count": null,
      "outputs": []
    },
    {
      "cell_type": "markdown",
      "metadata": {
        "id": "g2y6F-2XrExe"
      },
      "source": [
        "## **Code engine (no need to change)**"
      ]
    },
    {
      "cell_type": "markdown",
      "metadata": {
        "id": "sw_EymIAEDpI"
      },
      "source": [
        "Next comes the actual code to retrieve VEnCodes, do not change unless you understand the code:"
      ]
    },
    {
      "cell_type": "code",
      "metadata": {
        "id": "8qWUR-ByD--5"
      },
      "source": [
        "import VEnCode\n",
        "import os\n",
        "\n",
        "path_to_data = os.path.join(path_to_folder + file_name)\n",
        "\n",
        "# Define some default initial Parameters\n",
        "if algorithm == \"heuristic\":\n",
        "    reg_element_sparseness = 0\n",
        "else:\n",
        "    reg_element_sparseness = 90\n",
        "\n",
        "# Open the data\n",
        "data_tpm = VEnCode.DataTpm(path_to_data, sep=separator_style)\n",
        "data_tpm.load_data()\n",
        "data_tpm.make_data_celltype_specific(target_celltype=cell_type, replicates=False)\n",
        "\n",
        "# Filter the data\n",
        "data_tpm.filter_by_target_celltype_activity(threshold=target_celltype_activity, binarize=False)\n",
        "data_tpm.define_non_target_celltypes_inactivity(threshold=non_target_celltypes_inactivity)\n",
        "data_tpm.filter_by_reg_element_sparseness(threshold=reg_element_sparseness)\n",
        "if algorithm != \"sampling\":\n",
        "    data_tpm.sort_sparseness()\n",
        "\n",
        "# Find VEnCodes\n",
        "vencodes = VEnCode.Vencodes(data_tpm, algorithm=algorithm, number_of_re=number_of_re)\n",
        "vencodes.next(amount=number_vencodes)\n",
        "if vencodes.vencodes:\n",
        "    pass\n",
        "else:\n",
        "    raise Exception(\"No VEnCodes found for {}!\".format(cell_type))\n",
        "if e_values:\n",
        "  vencodes.determine_e_values(repetitions=100)\n",
        "  # Export the VEnCodes and E values to a file:\n",
        "  vencodes.export(\"vencodes\", \"e-values\", path=path_to_folder)\n",
        "else:\n",
        "  # Export the VEnCodes to a file:\n",
        "  vencodes.export(\"vencodes\", path=path_to_folder)"
      ],
      "execution_count": null,
      "outputs": []
    },
    {
      "cell_type": "markdown",
      "metadata": {
        "id": "AhrYoZvxC1xg"
      },
      "source": [
        "Finally, make sure that the result files are downloaded to your drive:"
      ]
    },
    {
      "cell_type": "code",
      "metadata": {
        "id": "RclYQof8IDUT"
      },
      "source": [
        "drive.flush_and_unmount()\n",
        "print('All changes made in this colab session should now be visible in your Google Drive.')"
      ],
      "execution_count": null,
      "outputs": []
    }
  ]
}