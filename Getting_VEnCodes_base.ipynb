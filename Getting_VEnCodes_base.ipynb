{
  "nbformat": 4,
  "nbformat_minor": 0,
  "metadata": {
    "colab": {
      "name": "Getting_VEnCodes_base.ipynb",
      "provenance": [],
      "collapsed_sections": [],
      "authorship_tag": "ABX9TyOP/GYbZtfo2gQxqRG+nLyD",
      "include_colab_link": true
    },
    "kernelspec": {
      "name": "python3",
      "display_name": "Python 3"
    }
  },
  "cells": [
    {
      "cell_type": "markdown",
      "metadata": {
        "id": "view-in-github",
        "colab_type": "text"
      },
      "source": [
        "<a href=\"https://colab.research.google.com/github/AndreMacedo88/VEnCode-Notebooks/blob/main/Getting_VEnCodes_base.ipynb\" target=\"_parent\"><img src=\"https://colab.research.google.com/assets/colab-badge.svg\" alt=\"Open In Colab\"/></a>"
      ]
    },
    {
      "cell_type": "markdown",
      "metadata": {
        "id": "RM89Jbbxem-A"
      },
      "source": [
        "## **How to use this notebook**"
      ]
    },
    {
      "cell_type": "markdown",
      "metadata": {
        "id": "Aoqe9XX0euwr"
      },
      "source": [
        "### **What is this notebook for?**\n",
        "This notebook allows users to **find, rank, and retrieve VEnCodes** without doing any modification and software set up to their machines.\n",
        "For in-depth information about the VEnCode tool, please refer to [Macedo and Gontijo, The intersectional genetics landscape for humans, GigaScience, 2020](https://doi.org/10.1093/gigascience/giaa083).\n",
        "\n",
        "In the context of the VEnCode technology, and using the CAGE-seq dataset from the FANTOM5 consortium, this notebook allows retrieving VEnCodes for the primary cells in the FANTOM5 CAGE-seq dataset. Other notebooks by our team allow for different analyses of different cell types, lines, or states.\n",
        "\n",
        "Also, this notebook runs the base algorithm that works for any numeric data matrix of columns and rows, where it will find combinations of n rows that exhibit values above a set threshold in one desired column, and below another threshold in all other columns. So, this means that the notebook can be used even for applications outside transcriptomics.\n",
        "\n",
        "### **Rationale**\n",
        "While the full VEnCode tool (available for Python 3) allows for many more functions, analyses, and flexibility, there are times when a more user friendly method is important, for example:\n",
        "\n",
        "*   Users working \"on the go\" and currently without access to their machines;\n",
        "*   Users that don't want to set up a python environment;\n",
        "\n",
        "Moreover, google colab sets up identical machines for their users, which makes this code reproducible between all who have access to this notebook.\n",
        "### **Requirements**\n",
        "There is only one requirement to use this notebook successfully:\n",
        "**You must have .csv data in the form of cell type x regulatory element (columns x rows) stored in your google drive.**\n",
        "### **Considerations on how to use the notebook**\n",
        "1. Before running, **there are two things you need to address**:\n",
        "\n",
        "*   Load your Google Drive and starting data\n",
        "*   Define the starting Parameters to get VEnCodes\n",
        "\n",
        "We will explain how to address these issues in the next two sections.\n",
        "\n",
        "2. Ideally, for full reproducible results, **when you are ready to run the code you should click on \"Runtime\" and then \"Restart and run all\"**. However, the cells of this notebook where separated for you to run independently if you want to do some quick tweaks to the parameters.\n",
        "\n",
        "3. Note that **your attention will be needed once after starting the run**: to access your Google Drive, Google Colab will ask you to follow a link, copy and paste it in the code block as instructed, and press enter.\n",
        "\n",
        "4. After running the code engine, **your results should be in your Google Drive** folder that contains your initial data set. Otherwise, check any error message that might have been triggered in the code blocks."
      ]
    },
    {
      "cell_type": "markdown",
      "metadata": {
        "id": "LC1L0TyNdgtQ"
      },
      "source": [
        "## **Preliminary steps**"
      ]
    },
    {
      "cell_type": "markdown",
      "metadata": {
        "id": "mG2FIUjaRsTd"
      },
      "source": [
        "First we need to import your data. This is the data that will be used to find and retrieve VEnCodes. Put the data file in your google drive for easy and quick access and run the next code cell."
      ]
    },
    {
      "cell_type": "code",
      "metadata": {
        "id": "hh3ePbDCCfJM",
        "outputId": "8e3c7e12-efc8-47d2-f619-6204f08b3c31",
        "colab": {
          "base_uri": "https://localhost:8080/",
          "height": 35
        }
      },
      "source": [
        "from google.colab import drive\n",
        "drive.mount('/content/drive')"
      ],
      "execution_count": 1,
      "outputs": [
        {
          "output_type": "stream",
          "text": [
            "Mounted at /content/drive\n"
          ],
          "name": "stdout"
        }
      ]
    },
    {
      "cell_type": "markdown",
      "metadata": {
        "id": "n4WKScmaOGdY"
      },
      "source": [
        "Next explain where the data that will be searched for VEnCodes is:"
      ]
    },
    {
      "cell_type": "code",
      "metadata": {
        "id": "95vwcq32Chq-"
      },
      "source": [
        "# Change the file name accordingly. Don't forget the extension's name.\n",
        "file_name = \"enhancers_154cells_non_binarized.csv\"\n",
        "# Also, you may want to take a look at your file and check which separator is used to split the values. Common separators are a comma \",\" or a semicolon \";\".\n",
        "separator_style = \";\"\n",
        "\n",
        "# Next variable can be left unchanged if your file is at the root of your Google Drive folder. \n",
        "# Otherwise, check the file structure on the left of this page in google colab and change the path to the folder where the file previously named is.\n",
        "path_to_folder = '/content/drive/My Drive/'\n"
      ],
      "execution_count": 2,
      "outputs": []
    },
    {
      "cell_type": "markdown",
      "metadata": {
        "id": "CtfoRgyjdxAe"
      },
      "source": [
        "Install the VEnCode tool in the google colab machine:"
      ]
    },
    {
      "cell_type": "code",
      "metadata": {
        "id": "QxdxGqQMBYih",
        "outputId": "634a81ae-ce98-4589-a1ff-1edb352bd0aa",
        "colab": {
          "base_uri": "https://localhost:8080/",
          "height": 359
        }
      },
      "source": [
        "!pip install VEnCode"
      ],
      "execution_count": 3,
      "outputs": [
        {
          "output_type": "stream",
          "text": [
            "Collecting VEnCode\n",
            "\u001b[?25l  Downloading https://files.pythonhosted.org/packages/5f/92/6a6bb4dfb578bb9ff6c442886cb0e7ece913b359bf16556ce227f296a9ef/VEnCode-1.1.0-py3-none-any.whl (823kB)\n",
            "\u001b[K     |████████████████████████████████| 829kB 3.4MB/s \n",
            "\u001b[?25hRequirement already satisfied: numpy in /usr/local/lib/python3.6/dist-packages (from VEnCode) (1.18.5)\n",
            "Requirement already satisfied: pandas in /usr/local/lib/python3.6/dist-packages (from VEnCode) (1.1.2)\n",
            "Requirement already satisfied: matplotlib in /usr/local/lib/python3.6/dist-packages (from VEnCode) (3.2.2)\n",
            "Collecting biopython\n",
            "\u001b[?25l  Downloading https://files.pythonhosted.org/packages/76/02/8b606c4aa92ff61b5eda71d23b499ab1de57d5e818be33f77b01a6f435a8/biopython-1.78-cp36-cp36m-manylinux1_x86_64.whl (2.3MB)\n",
            "\u001b[K     |████████████████████████████████| 2.3MB 12.3MB/s \n",
            "\u001b[?25hRequirement already satisfied: tqdm in /usr/local/lib/python3.6/dist-packages (from VEnCode) (4.41.1)\n",
            "Requirement already satisfied: scipy in /usr/local/lib/python3.6/dist-packages (from VEnCode) (1.4.1)\n",
            "Requirement already satisfied: pytz>=2017.2 in /usr/local/lib/python3.6/dist-packages (from pandas->VEnCode) (2018.9)\n",
            "Requirement already satisfied: python-dateutil>=2.7.3 in /usr/local/lib/python3.6/dist-packages (from pandas->VEnCode) (2.8.1)\n",
            "Requirement already satisfied: kiwisolver>=1.0.1 in /usr/local/lib/python3.6/dist-packages (from matplotlib->VEnCode) (1.2.0)\n",
            "Requirement already satisfied: pyparsing!=2.0.4,!=2.1.2,!=2.1.6,>=2.0.1 in /usr/local/lib/python3.6/dist-packages (from matplotlib->VEnCode) (2.4.7)\n",
            "Requirement already satisfied: cycler>=0.10 in /usr/local/lib/python3.6/dist-packages (from matplotlib->VEnCode) (0.10.0)\n",
            "Requirement already satisfied: six>=1.5 in /usr/local/lib/python3.6/dist-packages (from python-dateutil>=2.7.3->pandas->VEnCode) (1.15.0)\n",
            "Installing collected packages: biopython, VEnCode\n",
            "Successfully installed VEnCode-1.1.0 biopython-1.78\n"
          ],
          "name": "stdout"
        }
      ]
    },
    {
      "cell_type": "markdown",
      "metadata": {
        "id": "TbZMX2VueGpB"
      },
      "source": [
        "## **Define the Parameters to get VEnCodes**"
      ]
    },
    {
      "cell_type": "markdown",
      "metadata": {
        "id": "Dcqn6nZxOwhK"
      },
      "source": [
        "Change the following parameters as desired (see [Macedo and Gontijo, The intersectional genetics landscape for humans, GigaScience, 2020](https://doi.org/10.1093/gigascience/giaa083) for more details):"
      ]
    },
    {
      "cell_type": "code",
      "metadata": {
        "id": "3tnsdG3fO8Kd"
      },
      "source": [
        "# Input the target cell type to get VEnCodes. This should be the name of a column in your data. \n",
        "# If using FANTOM5 data, run the code in the next cell group to see available cell types in FANTOM5.\n",
        "cell_type = \"Hepatocyte\"\n",
        "\n",
        "# Choose the number of VEnCodes to find\n",
        "number_vencodes = 3\n",
        "\n",
        "# Define the number of regulatory elements that should comprise the VEnCodes\n",
        "number_of_re = 4\n",
        "\n",
        "# Choose the algorithm used to find VEnCodes. Can be \"heuristic\" or \"sampling\".\n",
        "algorithm = \"heuristic\"\n",
        "\n",
        "# Choose if you want to determine the E values for the VEnCodes that will be retrieved.\n",
        "e_values = True\n",
        "\n",
        "# Next we will define the threshold parameters.\n",
        "# First, the target_celltype_activity is the TPM threshold after which we consider the target cell type as active. \n",
        "# For FANTOM5 promoter data we recommend a value of 0.5. For enhancer data we recommend 0.1.\n",
        "target_celltype_activity = 0.1\n",
        "\n",
        "# Then, non_target_celltypes_inactivity is the TPM threshold after which we consider a non target cell type as active. It's recommended to use the value 0.\n",
        "non_target_celltypes_inactivity = 0\n"
      ],
      "execution_count": 4,
      "outputs": []
    },
    {
      "cell_type": "markdown",
      "metadata": {
        "id": "K9Du9CF3XOY6"
      },
      "source": [
        "Run the next code block if you need to check the exact name of a cell type in the FANTOM5 data sets."
      ]
    },
    {
      "cell_type": "code",
      "metadata": {
        "id": "5JtQhsv1UrVo",
        "outputId": "643baf3c-3e93-4fca-cf82-3ada50461a72",
        "colab": {
          "base_uri": "https://localhost:8080/",
          "height": 1000
        }
      },
      "source": [
        "from VEnCode import common_variables as cv\n",
        "from pprint import pprint as pp\n",
        "\n",
        "# show all names of primary cell types:\n",
        "pp(cv.primary_cell_list, compact=True)  # Turn compact to False to see an easier to read, albeit longer, list of cell types."
      ],
      "execution_count": 5,
      "outputs": [
        {
          "output_type": "stream",
          "text": [
            "['Adipocyte - breast', 'Adipocyte - omental', 'Adipocyte - perirenal',\n",
            " 'Adipocyte - subcutaneous', 'Alveolar Epithelial Cells',\n",
            " 'Amniotic Epithelial Cells', 'amniotic membrane cells', 'Anulus Pulposus Cell',\n",
            " 'Astrocyte - cerebellum', 'Astrocyte - cerebral cortex', 'Basophils',\n",
            " 'Bronchial Epithelial Cell', 'Cardiac Myocyte',\n",
            " 'CD133+ stem cells - adult bone marrow derived',\n",
            " 'CD133+ stem cells - cord blood derived',\n",
            " 'CD14+ monocyte derived endothelial progenitor cells', 'CD14+ Monocytes',\n",
            " 'CD14+ CD16- Monocytes', 'CD14+ CD16+ Monocytes', 'CD14- CD16+ Monocytes',\n",
            " 'CD19+ B Cells', 'CD34 cells differentiated to erythrocyte lineage',\n",
            " 'CD34+ Progenitors', 'CD34+ stem cells - adult bone marrow derived',\n",
            " 'CD4+ T Cells', 'CD4+CD25+CD45RA- memory regulatory T cells',\n",
            " 'CD4+CD25+CD45RA+ naive regulatory T cells',\n",
            " 'CD4+CD25-CD45RA- memory conventional T cells',\n",
            " 'CD4+CD25-CD45RA+ naive conventional T cells', 'CD8+ T Cells', 'Chondrocyte',\n",
            " 'chorionic membrane cells', 'Ciliary Epithelial Cells',\n",
            " 'common myeloid progenitor CMP', 'Corneal Epithelial Cells',\n",
            " 'Dendritic Cells - monocyte immature derived',\n",
            " 'Dendritic Cells - plasmacytoid', 'Endothelial Cells - Aortic',\n",
            " 'Endothelial Cells - Artery', 'Endothelial Cells - Lymphatic',\n",
            " 'Endothelial Cells - Microvascular', 'Endothelial Cells - Thoracic',\n",
            " 'Endothelial Cells - Umbilical vein', 'Endothelial Cells - Vein',\n",
            " 'Eosinophils', 'Esophageal Epithelial Cells',\n",
            " 'Fibroblast - Aortic Adventitial', 'Fibroblast - Cardiac',\n",
            " 'Fibroblast - Choroid Plexus', 'Fibroblast - Conjunctival',\n",
            " 'Fibroblast - Dermal', 'Fibroblast - Gingival', 'Fibroblast - Lung',\n",
            " 'Fibroblast - Lymphatic', 'Fibroblast - Mammary',\n",
            " 'Fibroblast - Periodontal Ligament', 'Fibroblast - Pulmonary Artery',\n",
            " 'Fibroblast - skin', 'Fibroblast - Villous Mesenchymal',\n",
            " 'gamma delta positive T cells', 'Gingival epithelial cells',\n",
            " 'granulocyte macrophage progenitor', 'Hair Follicle Dermal Papilla Cells',\n",
            " 'Hair Follicle Outer Root Sheath Cells',\n",
            " 'Hepatic Sinusoidal Endothelial Cells', 'Hepatic Stellate Cells (lipocyte)',\n",
            " 'Hepatocyte', 'immature langerhans cells',\n",
            " 'Intestinal epithelial cells (polarized)', 'Iris Pigment Epithelial Cells',\n",
            " 'Keratinocyte - epidermal', 'Keratinocyte - oral', 'Keratocytes',\n",
            " 'Lens Epithelial Cells', 'Macrophage - monocyte derived',\n",
            " 'Mallassez-derived cells', 'Mammary Epithelial Cell', 'Mast cell',\n",
            " 'mature adipocyte', 'Melanocyte', 'Meningeal Cells',\n",
            " 'mesenchymal precursor cell - adipose',\n",
            " 'mesenchymal precursor cell - bone marrow',\n",
            " 'mesenchymal precursor cell - cardiac', 'Mesenchymal stem cells - adipose',\n",
            " 'Mesenchymal Stem Cells - amniotic membrane',\n",
            " 'Mesenchymal Stem Cells - bone marrow', 'Mesenchymal stem cells - hepatic',\n",
            " 'Mesenchymal stem cells - umbilical', 'Mesenchymal Stem Cells - Vertebral',\n",
            " 'Mesenchymal Stem Cells - Wharton Jelly', 'Mesothelial Cells',\n",
            " 'migratory langerhans cells',\n",
            " 'Multipotent Cord Blood Unrestricted Somatic Stem Cells', 'Myoblast',\n",
            " 'nasal epithelial cells', 'Natural Killer Cells', 'Neural stem cells',\n",
            " 'Neurons', 'Neutrophil', 'Nucleus Pulposus Cell', 'Olfactory epithelial cells',\n",
            " 'Oligodendrocyte - precursors', 'Osteoblast', 'Pancreatic stromal cells',\n",
            " 'Pericytes', 'Perineurial Cells', 'Placental Epithelial Cells',\n",
            " 'Preadipocyte - breast', 'Preadipocyte - omental', 'Preadipocyte - perirenal',\n",
            " 'Preadipocyte - subcutaneous', 'Preadipocyte - visceral', 'promyelocytes',\n",
            " 'Prostate Epithelial Cells', 'Prostate Stromal Cells',\n",
            " 'Renal Cortical Epithelial Cells', 'Renal Epithelial Cells',\n",
            " 'Renal Glomerular Endothelial Cells', 'Renal Mesangial Cells',\n",
            " 'Renal Proximal Tubular Epithelial Cell', 'Retinal Pigment Epithelial Cells',\n",
            " 'salivary acinar cells', 'Schwann Cells', 'Sebocyte', 'Sertoli Cells',\n",
            " 'Skeletal Muscle Cells', 'Skeletal muscle cells differentiated into Myotubes',\n",
            " 'Skeletal Muscle Satellite Cells', 'Small Airway Epithelial Cells',\n",
            " 'Smooth muscle cells - airway', 'Smooth Muscle Cells - Aortic',\n",
            " 'Smooth Muscle Cells - Bladder', 'Smooth Muscle Cells - Brachiocephalic',\n",
            " 'Smooth Muscle Cells - Brain Vascular', 'Smooth Muscle Cells - Bronchial',\n",
            " 'Smooth Muscle Cells - Carotid', 'Smooth Muscle Cells - Colonic',\n",
            " 'Smooth Muscle Cells - Coronary Artery', 'Smooth Muscle Cells - Esophageal',\n",
            " 'Smooth Muscle Cells - Internal Thoracic Artery',\n",
            " 'Smooth Muscle Cells - Intestinal', 'Smooth Muscle Cells - Prostate',\n",
            " 'Smooth Muscle Cells - Pulmonary Artery',\n",
            " 'Smooth Muscle Cells - Subclavian Artery', 'Smooth Muscle Cells - Tracheal',\n",
            " 'Smooth Muscle Cells - Umbilical artery',\n",
            " 'Smooth Muscle Cells - Umbilical Vein', 'Smooth Muscle Cells - Uterine',\n",
            " 'Synoviocyte', 'tenocyte', 'Trabecular Meshwork Cells',\n",
            " 'Tracheal Epithelial Cells', 'Urothelial cells']\n"
          ],
          "name": "stdout"
        }
      ]
    },
    {
      "cell_type": "markdown",
      "metadata": {
        "id": "g2y6F-2XrExe"
      },
      "source": [
        "## **Code engine (no need to change)**"
      ]
    },
    {
      "cell_type": "markdown",
      "metadata": {
        "id": "sw_EymIAEDpI"
      },
      "source": [
        "Next comes the actual code to retrieve VEnCodes, do not change unless you understand the code:"
      ]
    },
    {
      "cell_type": "code",
      "metadata": {
        "id": "8qWUR-ByD--5",
        "outputId": "58b0e497-8665-4a97-818b-222b14fbe836",
        "colab": {
          "base_uri": "https://localhost:8080/",
          "height": 89
        }
      },
      "source": [
        "import VEnCode\n",
        "import os\n",
        "\n",
        "path_to_data = os.path.join(path_to_folder + file_name)\n",
        "\n",
        "# Define default initial Parameters\n",
        "if algorithm == \"heuristic\":\n",
        "    reg_element_sparseness = 0\n",
        "else:\n",
        "    reg_element_sparseness = 90\n",
        "# Open the data from FANTOM5\n",
        "data_tpm = VEnCode.DataTpm(path_to_data, sep=separator_style)\n",
        "data_tpm.load_data()\n",
        "data_tpm.make_data_celltype_specific(target_celltype=cell_type, replicates=False)\n",
        "# Filter the data\n",
        "data_tpm.filter_by_target_celltype_activity(threshold=target_celltype_activity, binarize=False)\n",
        "data_tpm.define_non_target_celltypes_inactivity(threshold=non_target_celltypes_inactivity)\n",
        "data_tpm.filter_by_reg_element_sparseness(threshold=reg_element_sparseness)\n",
        "if algorithm != \"sampling\":\n",
        "    data_tpm.sort_sparseness()\n",
        "# Find VEnCodes\n",
        "vencodes = VEnCode.Vencodes(data_tpm, algorithm=algorithm, number_of_re=number_of_re)\n",
        "vencodes.next(amount=number_vencodes)\n",
        "if vencodes.vencodes:\n",
        "    pass\n",
        "else:\n",
        "    raise Exception(\"No VEnCodes found for {}!\".format(cell_type))\n",
        "if e_values:\n",
        "  vencodes.determine_e_values(repetitions=100)\n",
        "  # Export the VEnCodes and E values to a file:\n",
        "  vencodes.export(\"vencodes\", \"e-values\", path=path_to_folder)\n",
        "else:\n",
        "  # Export the VEnCodes to a file:\n",
        "  vencodes.export(\"vencodes\", path=path_to_folder)"
      ],
      "execution_count": 6,
      "outputs": [
        {
          "output_type": "stream",
          "text": [
            "File stored in: /content/drive/My Drive/Hepatocyte_evalues.csv\n",
            "File stored in /content/drive/My Drive/Hepatocyte_vencode.csv\n",
            "File stored in /content/drive/My Drive/Hepatocyte_vencode-1.csv\n",
            "File stored in /content/drive/My Drive/Hepatocyte_vencode-2.csv\n"
          ],
          "name": "stdout"
        }
      ]
    },
    {
      "cell_type": "markdown",
      "metadata": {
        "id": "AhrYoZvxC1xg"
      },
      "source": [
        "Finally, make sure that the result files are downloaded to your drive:"
      ]
    },
    {
      "cell_type": "code",
      "metadata": {
        "id": "RclYQof8IDUT",
        "outputId": "c7372674-e994-4ee3-bc74-21f2033506c1",
        "colab": {
          "base_uri": "https://localhost:8080/",
          "height": 35
        }
      },
      "source": [
        "drive.flush_and_unmount()\n",
        "print('All changes made in this colab session should now be visible in your Google Drive.')"
      ],
      "execution_count": 7,
      "outputs": [
        {
          "output_type": "stream",
          "text": [
            "All changes made in this colab session should now be visible in your Google Drive.\n"
          ],
          "name": "stdout"
        }
      ]
    }
  ]
}